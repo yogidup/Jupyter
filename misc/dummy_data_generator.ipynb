import pandas as pd
import numpy as np
import random
from datetime import datetime, timedelta

# Configuration
n_rows = 10000
client_ids = [f"CL{random.randint(1, 1500)}" for _ in range(n_rows)]
product_choices = ['product a', 'product b', 'product c', 'product d']
order_types = ['new order', 'renewal']
payment_status = ['paid', 'pending', 'cancelled	', 'refunded']

# Product distribution: charlie should be dominant (50-65%)
product_probs = [0.1, 0.1, 0.6, 0.2]  # alpha, beta, charlie, delta
products = np.random.choice(product_choices, size=n_rows, p=product_probs)

# Order type distribution: new orders should be around 70%
order_type_probs = [0.7, 0.3]
order_types_list = np.random.choice(order_types, size=n_rows, p=order_type_probs)

# Payment status distribution:
payment_status_probs = [0.45, 0.54, 0.004, 0.006]
payment_status_list = np.random.choice(payment_status, size=n_rows, p=payment_status_probs)

# Generate random dates within the last 4 years
start_date = datetime.today() - timedelta(days=4*365)
dates = [start_date + timedelta(days=random.randint(0, 4*365)) for _ in range(n_rows)]

# Define base price range for each product
base_price_map = {
    'product a': (100, 200),
    'product b': (150, 250),
    'product c': (200, 300),
    'product d': (100, 220)
}

# Adjust amounts: renewals are 30% more expensive than new orders
amounts = []
for i in range(n_rows):
    product = products[i]
    order_type = order_types_list[i]
    low, high = base_price_map[product]
    base_price = random.randint(low, high)
    
    if order_type == 'renewal':
        base_price = int(base_price * 1.3)  # +30%
    
    amounts.append(base_price)

# Build DataFrame
df = pd.DataFrame({
    'transaction_id': [f"TX{str(i+1).zfill(5)}" for i in range(n_rows)],
    'client_id': client_ids,
    'product_name': products,
    'order_type': order_types_list,
    'order_date': dates,
    'payment_status': payment_status_list,
    'amount': amounts
})

# Save to CSV
df.to_csv("transaction_data.csv", index=False)

print("✅ Dummy transaction data generated and saved as 'dummy_transaction_data.csv'")
