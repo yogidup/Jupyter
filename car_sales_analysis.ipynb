{
 "cells": [
  {
   "cell_type": "code",
   "execution_count": 36,
   "id": "ca33abc0-1fe8-47b3-ad9e-e8128c4145ff",
   "metadata": {},
   "outputs": [],
   "source": [
    "# Import libraries\n",
    "import pandas as pd\n",
    "import numpy as np\n",
    "\n",
    "# Define the dataset file name\n",
    "data_frame = 'car_sales.csv'"
   ]
  },
  {
   "cell_type": "code",
   "execution_count": 40,
   "id": "8d668cf7-2f2f-4006-87f5-cb325a56d794",
   "metadata": {},
   "outputs": [
    {
     "data": {
      "text/html": [
       "<div>\n",
       "<style scoped>\n",
       "    .dataframe tbody tr th:only-of-type {\n",
       "        vertical-align: middle;\n",
       "    }\n",
       "\n",
       "    .dataframe tbody tr th {\n",
       "        vertical-align: top;\n",
       "    }\n",
       "\n",
       "    .dataframe thead th {\n",
       "        text-align: right;\n",
       "    }\n",
       "</style>\n",
       "<table border=\"1\" class=\"dataframe\">\n",
       "  <thead>\n",
       "    <tr style=\"text-align: right;\">\n",
       "      <th></th>\n",
       "      <th>car_id</th>\n",
       "      <th>date</th>\n",
       "      <th>customer_name</th>\n",
       "      <th>gender</th>\n",
       "      <th>annual_income</th>\n",
       "      <th>dealer_name</th>\n",
       "      <th>company</th>\n",
       "      <th>model</th>\n",
       "      <th>engine</th>\n",
       "      <th>transmission</th>\n",
       "      <th>color</th>\n",
       "      <th>price_($)</th>\n",
       "      <th>dealer_no</th>\n",
       "      <th>body_style</th>\n",
       "      <th>phone</th>\n",
       "      <th>dealer_region</th>\n",
       "    </tr>\n",
       "  </thead>\n",
       "  <tbody>\n",
       "    <tr>\n",
       "      <th>0</th>\n",
       "      <td>C_CND_000001</td>\n",
       "      <td>1/2/2022</td>\n",
       "      <td>Geraldine</td>\n",
       "      <td>Male</td>\n",
       "      <td>13500</td>\n",
       "      <td>Buddy Storbeck's Diesel Service Inc</td>\n",
       "      <td>Ford</td>\n",
       "      <td>Expedition</td>\n",
       "      <td>DoubleÂ Overhead Camshaft</td>\n",
       "      <td>Auto</td>\n",
       "      <td>Black</td>\n",
       "      <td>26000</td>\n",
       "      <td>06457-3834</td>\n",
       "      <td>SUV</td>\n",
       "      <td>8264678</td>\n",
       "      <td>Middletown</td>\n",
       "    </tr>\n",
       "  </tbody>\n",
       "</table>\n",
       "</div>"
      ],
      "text/plain": [
       "         car_id      date customer_name gender  annual_income  \\\n",
       "0  C_CND_000001  1/2/2022     Geraldine   Male          13500   \n",
       "\n",
       "                           dealer_name company       model  \\\n",
       "0  Buddy Storbeck's Diesel Service Inc    Ford  Expedition   \n",
       "\n",
       "                      engine transmission  color  price_($)   dealer_no  \\\n",
       "0  DoubleÂ Overhead Camshaft         Auto  Black      26000  06457-3834   \n",
       "\n",
       "  body_style    phone dealer_region  \n",
       "0        SUV  8264678    Middletown  "
      ]
     },
     "execution_count": 40,
     "metadata": {},
     "output_type": "execute_result"
    }
   ],
   "source": [
    "# Load dataset into a DataFrame\n",
    "df = pd.read_csv(data_frame)\n",
    "\n",
    "# Standardize column headers\n",
    "df.columns = (\n",
    "    df.columns\n",
    "    .str.strip()  # Remove any leading or trailing spaces\n",
    "    .str.lower()  # Convert to lowercase\n",
    "    .str.replace(\" \", \"_\")  # Replace spaces with underscores\n",
    ")\n",
    "\n",
    "df.head(1)"
   ]
  },
  {
   "cell_type": "code",
   "execution_count": 38,
   "id": "8312cd39-bb88-4b1e-af5a-550d9a9f57dd",
   "metadata": {},
   "outputs": [
    {
     "data": {
      "text/html": [
       "<div>\n",
       "<style scoped>\n",
       "    .dataframe tbody tr th:only-of-type {\n",
       "        vertical-align: middle;\n",
       "    }\n",
       "\n",
       "    .dataframe tbody tr th {\n",
       "        vertical-align: top;\n",
       "    }\n",
       "\n",
       "    .dataframe thead th {\n",
       "        text-align: right;\n",
       "    }\n",
       "</style>\n",
       "<table border=\"1\" class=\"dataframe\">\n",
       "  <thead>\n",
       "    <tr style=\"text-align: right;\">\n",
       "      <th></th>\n",
       "      <th>car_id</th>\n",
       "      <th>date</th>\n",
       "      <th>customer_name</th>\n",
       "      <th>gender</th>\n",
       "      <th>annual_income</th>\n",
       "      <th>dealer_name</th>\n",
       "      <th>company</th>\n",
       "      <th>model</th>\n",
       "      <th>engine</th>\n",
       "      <th>transmission</th>\n",
       "      <th>color</th>\n",
       "      <th>price_usd</th>\n",
       "      <th>dealer_no</th>\n",
       "      <th>body_style</th>\n",
       "      <th>phone</th>\n",
       "      <th>dealer_region</th>\n",
       "    </tr>\n",
       "  </thead>\n",
       "  <tbody>\n",
       "    <tr>\n",
       "      <th>0</th>\n",
       "      <td>C_CND_000001</td>\n",
       "      <td>1/2/2022</td>\n",
       "      <td>Geraldine</td>\n",
       "      <td>Male</td>\n",
       "      <td>13500</td>\n",
       "      <td>Buddy Storbeck's Diesel Service Inc</td>\n",
       "      <td>Ford</td>\n",
       "      <td>Expedition</td>\n",
       "      <td>DoubleÂ Overhead Camshaft</td>\n",
       "      <td>Auto</td>\n",
       "      <td>Black</td>\n",
       "      <td>26000</td>\n",
       "      <td>06457-3834</td>\n",
       "      <td>SUV</td>\n",
       "      <td>8264678</td>\n",
       "      <td>Middletown</td>\n",
       "    </tr>\n",
       "  </tbody>\n",
       "</table>\n",
       "</div>"
      ],
      "text/plain": [
       "         car_id      date customer_name gender  annual_income  \\\n",
       "0  C_CND_000001  1/2/2022     Geraldine   Male          13500   \n",
       "\n",
       "                           dealer_name company       model  \\\n",
       "0  Buddy Storbeck's Diesel Service Inc    Ford  Expedition   \n",
       "\n",
       "                      engine transmission  color  price_usd   dealer_no  \\\n",
       "0  DoubleÂ Overhead Camshaft         Auto  Black      26000  06457-3834   \n",
       "\n",
       "  body_style    phone dealer_region  \n",
       "0        SUV  8264678    Middletown  "
      ]
     },
     "execution_count": 38,
     "metadata": {},
     "output_type": "execute_result"
    }
   ],
   "source": [
    "# Handle special cases: convert currency symbols \"$\" to \"usd\"\n",
    "df.rename(columns={\"price_($)\": \"price_usd\"}, inplace=True)\n",
    "\n",
    "df.head(1)"
   ]
  },
  {
   "cell_type": "code",
   "execution_count": 4,
   "id": "2737d8cf-0af7-4cb8-a12d-a7c0c80296f1",
   "metadata": {},
   "outputs": [
    {
     "name": "stdout",
     "output_type": "stream",
     "text": [
      "<class 'pandas.core.series.Series'>\n",
      "RangeIndex: 23906 entries, 0 to 23905\n",
      "Series name: date\n",
      "Non-Null Count  Dtype         \n",
      "--------------  -----         \n",
      "23906 non-null  datetime64[ns]\n",
      "dtypes: datetime64[ns](1)\n",
      "memory usage: 186.9 KB\n"
     ]
    }
   ],
   "source": [
    "# Convert the 'date' column to datetime format, setting invalid values to NaT\n",
    "df['date'] = pd.to_datetime(df['date'], errors='coerce')\n",
    "\n",
    "# Warn if any records could not be converted to datetime\n",
    "if df['date'].isnull().sum() > 0:\n",
    "    print('Warning: Some dates could not be parsed and have been set to NaT.')\n",
    "\n",
    "# Display column info\n",
    "df['date'].info()"
   ]
  },
  {
   "cell_type": "code",
   "execution_count": 32,
   "id": "4b3fd9b2-67d0-4d33-8315-d6184a004c93",
   "metadata": {},
   "outputs": [
    {
     "name": "stdout",
     "output_type": "stream",
     "text": [
      "               UniqueVal  MissingVal        DataType\n",
      "gender                 2           0          object\n",
      "engine                 2           0          object\n",
      "transmission           2           0          object\n",
      "color                  3           0          object\n",
      "body_style             5           0          object\n",
      "dealer_region          7           0          object\n",
      "dealer_no              7           0          object\n",
      "dealer_name           28           0          object\n",
      "company               30           0          object\n",
      "model                154           0          object\n",
      "date                 612           0  datetime64[ns]\n",
      "price_usd            870           0           int64\n",
      "annual_income       2508           0           int64\n",
      "customer_name       3021           1          object\n",
      "phone              23804           0           int64\n",
      "car_id             23906           0          object\n"
     ]
    }
   ],
   "source": [
    "# Remove duplicate records (if any) from the DataFrame\n",
    "df.drop_duplicates(inplace=True)\n",
    "\n",
    "# Analyze the number of unique values for each column\n",
    "df_info = (\n",
    "    df.nunique()\n",
    "    .to_frame(name=\"UniqueVal\")\n",
    "    .assign(MissingVal=df.isnull().sum())\n",
    "    .assign(DataType=df.dtypes)\n",
    "    .sort_values(by=\"UniqueVal\", ascending=True)\n",
    ")\n",
    "\n",
    "print(df_info)"
   ]
  }
 ],
 "metadata": {
  "kernelspec": {
   "display_name": "Python 3 (ipykernel)",
   "language": "python",
   "name": "python3"
  },
  "language_info": {
   "codemirror_mode": {
    "name": "ipython",
    "version": 3
   },
   "file_extension": ".py",
   "mimetype": "text/x-python",
   "name": "python",
   "nbconvert_exporter": "python",
   "pygments_lexer": "ipython3",
   "version": "3.12.0"
  }
 },
 "nbformat": 4,
 "nbformat_minor": 5
}
